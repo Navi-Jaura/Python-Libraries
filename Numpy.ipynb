{
 "cells": [
  {
   "cell_type": "markdown",
   "id": "38d0bc76",
   "metadata": {},
   "source": [
    "# Definitions:"
   ]
  },
  {
   "cell_type": "code",
   "execution_count": null,
   "id": "a95a4470",
   "metadata": {},
   "outputs": [],
   "source": [
    "NumPy is a Python library used for working with arrays.\n",
    "\n",
    "NumPy stands for Numerical Python."
   ]
  },
  {
   "cell_type": "markdown",
   "id": "0013b49b",
   "metadata": {},
   "source": [
    "# Numpy Functions"
   ]
  },
  {
   "cell_type": "markdown",
   "id": "669c0dc5",
   "metadata": {},
   "source": [
    "# 1. Array:"
   ]
  },
  {
   "cell_type": "code",
   "execution_count": null,
   "id": "0ccdeb18",
   "metadata": {},
   "outputs": [],
   "source": [
    "It is used to create one-dimensional or multidimensional arrays from scratch."
   ]
  },
  {
   "cell_type": "code",
   "execution_count": 1,
   "id": "acd997e6",
   "metadata": {},
   "outputs": [
    {
     "data": {
      "text/plain": [
       "array([1, 2, 3, 4, 5])"
      ]
     },
     "execution_count": 1,
     "metadata": {},
     "output_type": "execute_result"
    }
   ],
   "source": [
    "import numpy as np\n",
    "np.array([1,2,3,4,5])"
   ]
  },
  {
   "cell_type": "code",
   "execution_count": null,
   "id": "56ae7f8c",
   "metadata": {},
   "outputs": [],
   "source": []
  },
  {
   "cell_type": "markdown",
   "id": "36406566",
   "metadata": {},
   "source": [
    "# 2. Linspace:"
   ]
  },
  {
   "cell_type": "code",
   "execution_count": null,
   "id": "c527a8f4",
   "metadata": {},
   "outputs": [],
   "source": [
    "Creates an array with evenly spaced float numbers over a specified interval."
   ]
  },
  {
   "cell_type": "code",
   "execution_count": 2,
   "id": "da9f670a",
   "metadata": {},
   "outputs": [
    {
     "data": {
      "text/plain": [
       "array([ 10.,  20.,  30.,  40.,  50.,  60.,  70.,  80.,  90., 100.])"
      ]
     },
     "execution_count": 2,
     "metadata": {},
     "output_type": "execute_result"
    }
   ],
   "source": [
    "np.linspace(10,100,10)"
   ]
  },
  {
   "cell_type": "code",
   "execution_count": null,
   "id": "3f705a52",
   "metadata": {},
   "outputs": [],
   "source": []
  },
  {
   "cell_type": "markdown",
   "id": "652c14e7",
   "metadata": {},
   "source": [
    "# 3. Arange:"
   ]
  },
  {
   "cell_type": "code",
   "execution_count": 3,
   "id": "a36aea87",
   "metadata": {},
   "outputs": [
    {
     "data": {
      "text/plain": [
       "array([5, 6, 7, 8, 9])"
      ]
     },
     "execution_count": 3,
     "metadata": {},
     "output_type": "execute_result"
    }
   ],
   "source": [
    "np.arange(5,10)"
   ]
  },
  {
   "cell_type": "code",
   "execution_count": 4,
   "id": "0e9771b0",
   "metadata": {},
   "outputs": [
    {
     "data": {
      "text/plain": [
       "array([5, 7, 9])"
      ]
     },
     "execution_count": 4,
     "metadata": {},
     "output_type": "execute_result"
    }
   ],
   "source": [
    "np.arange(5,10,2)\n",
    "#(starting point,ending point,steps point)"
   ]
  },
  {
   "cell_type": "markdown",
   "id": "fc0b1b92",
   "metadata": {},
   "source": [
    "# 4. Random.randint:"
   ]
  },
  {
   "cell_type": "code",
   "execution_count": null,
   "id": "445115ef",
   "metadata": {},
   "outputs": [],
   "source": [
    "Generate n random integer samples within a range."
   ]
  },
  {
   "cell_type": "code",
   "execution_count": 6,
   "id": "587be796",
   "metadata": {},
   "outputs": [
    {
     "data": {
      "text/plain": [
       "array([8, 9, 8, 9, 9, 6, 5, 7, 8, 7])"
      ]
     },
     "execution_count": 6,
     "metadata": {},
     "output_type": "execute_result"
    }
   ],
   "source": [
    "np.random.randint(5,10,10)"
   ]
  },
  {
   "cell_type": "code",
   "execution_count": null,
   "id": "2fe5e7b3",
   "metadata": {},
   "outputs": [],
   "source": []
  },
  {
   "cell_type": "markdown",
   "id": "d2dd3365",
   "metadata": {},
   "source": [
    "# 5. Random.random:"
   ]
  },
  {
   "cell_type": "code",
   "execution_count": null,
   "id": "8e1dabc0",
   "metadata": {},
   "outputs": [],
   "source": [
    "Generate n random float samples."
   ]
  },
  {
   "cell_type": "code",
   "execution_count": 7,
   "id": "c73aedda",
   "metadata": {},
   "outputs": [
    {
     "data": {
      "text/plain": [
       "array([0.73512966, 0.22030493, 0.28214624])"
      ]
     },
     "execution_count": 7,
     "metadata": {},
     "output_type": "execute_result"
    }
   ],
   "source": [
    "np.random.random(3)"
   ]
  },
  {
   "cell_type": "code",
   "execution_count": null,
   "id": "b1d513fc",
   "metadata": {},
   "outputs": [],
   "source": []
  },
  {
   "cell_type": "markdown",
   "id": "6103ad60",
   "metadata": {},
   "source": [
    "# 6. Logspace:"
   ]
  },
  {
   "cell_type": "code",
   "execution_count": null,
   "id": "312b8de1",
   "metadata": {},
   "outputs": [],
   "source": [
    "Generate evenly spaced numbers on a log scale."
   ]
  },
  {
   "cell_type": "code",
   "execution_count": 8,
   "id": "26af2aca",
   "metadata": {},
   "outputs": [
    {
     "data": {
      "text/plain": [
       "array([1.00000000e+00, 5.65685425e+00, 3.20000000e+01, 1.81019336e+02,\n",
       "       1.02400000e+03])"
      ]
     },
     "execution_count": 8,
     "metadata": {},
     "output_type": "execute_result"
    }
   ],
   "source": [
    "np.logspace(0,10,5,base=2)"
   ]
  },
  {
   "cell_type": "code",
   "execution_count": null,
   "id": "c13bc191",
   "metadata": {},
   "outputs": [],
   "source": []
  },
  {
   "cell_type": "markdown",
   "id": "bf4f1215",
   "metadata": {},
   "source": [
    "# 7. Array of zero:"
   ]
  },
  {
   "cell_type": "code",
   "execution_count": null,
   "id": "d80fbe9b",
   "metadata": {},
   "outputs": [],
   "source": [
    "np.zeroes function helps to create an array of 0"
   ]
  },
  {
   "cell_type": "code",
   "execution_count": 12,
   "id": "b7698a0e",
   "metadata": {},
   "outputs": [
    {
     "data": {
      "text/plain": [
       "array([[0, 0, 0],\n",
       "       [0, 0, 0]])"
      ]
     },
     "execution_count": 12,
     "metadata": {},
     "output_type": "execute_result"
    }
   ],
   "source": [
    "np.zeros((2,3),dtype='int')"
   ]
  },
  {
   "cell_type": "code",
   "execution_count": null,
   "id": "a99457b8",
   "metadata": {},
   "outputs": [],
   "source": []
  },
  {
   "cell_type": "markdown",
   "id": "ea105355",
   "metadata": {},
   "source": [
    "# 8. Array of Ones:"
   ]
  },
  {
   "cell_type": "code",
   "execution_count": null,
   "id": "eed94227",
   "metadata": {},
   "outputs": [],
   "source": [
    "np.ones function helps to create an array of 1."
   ]
  },
  {
   "cell_type": "code",
   "execution_count": 13,
   "id": "254334b2",
   "metadata": {},
   "outputs": [
    {
     "data": {
      "text/plain": [
       "array([[1., 1., 1., 1.],\n",
       "       [1., 1., 1., 1.],\n",
       "       [1., 1., 1., 1.]])"
      ]
     },
     "execution_count": 13,
     "metadata": {},
     "output_type": "execute_result"
    }
   ],
   "source": [
    "np.ones((3,4))"
   ]
  },
  {
   "cell_type": "code",
   "execution_count": null,
   "id": "59785bf2",
   "metadata": {},
   "outputs": [],
   "source": []
  },
  {
   "cell_type": "markdown",
   "id": "834542ad",
   "metadata": {},
   "source": [
    "# 9. Array of k Random Value:"
   ]
  },
  {
   "cell_type": "code",
   "execution_count": null,
   "id": "729266de",
   "metadata": {},
   "outputs": [],
   "source": [
    "Creates an n-dimensional array of a random value.\n",
    "fill_value: Random value to fill inside the array."
   ]
  },
  {
   "cell_type": "code",
   "execution_count": 14,
   "id": "75fd0eaf",
   "metadata": {},
   "outputs": [
    {
     "data": {
      "text/plain": [
       "array([[2, 2, 2, 2],\n",
       "       [2, 2, 2, 2]])"
      ]
     },
     "execution_count": 14,
     "metadata": {},
     "output_type": "execute_result"
    }
   ],
   "source": [
    "np.full((2,4),fill_value=2)"
   ]
  },
  {
   "cell_type": "code",
   "execution_count": 15,
   "id": "f5e65bac",
   "metadata": {},
   "outputs": [
    {
     "data": {
      "text/plain": [
       "array([[9, 9, 9, 9, 9, 9],\n",
       "       [9, 9, 9, 9, 9, 9],\n",
       "       [9, 9, 9, 9, 9, 9],\n",
       "       [9, 9, 9, 9, 9, 9]])"
      ]
     },
     "execution_count": 15,
     "metadata": {},
     "output_type": "execute_result"
    }
   ],
   "source": [
    "np.full((4,6),fill_value=9)"
   ]
  },
  {
   "cell_type": "code",
   "execution_count": null,
   "id": "81498cb4",
   "metadata": {},
   "outputs": [],
   "source": []
  },
  {
   "cell_type": "markdown",
   "id": "8589eff2",
   "metadata": {},
   "source": [
    "# -- Array Operations --"
   ]
  },
  {
   "cell_type": "markdown",
   "id": "59c9fa07",
   "metadata": {},
   "source": [
    "# Min:"
   ]
  },
  {
   "cell_type": "code",
   "execution_count": null,
   "id": "a851a00d",
   "metadata": {},
   "outputs": [],
   "source": [
    "Return the minimum value from the array."
   ]
  },
  {
   "cell_type": "code",
   "execution_count": 16,
   "id": "30b98330",
   "metadata": {},
   "outputs": [
    {
     "data": {
      "text/plain": [
       "1"
      ]
     },
     "execution_count": 16,
     "metadata": {},
     "output_type": "execute_result"
    }
   ],
   "source": [
    "arr = np.array([1,1,2,3,3,4,5,6,6,2])\n",
    "np.min(arr)"
   ]
  },
  {
   "cell_type": "markdown",
   "id": "7a224a8b",
   "metadata": {},
   "source": [
    "## Max:"
   ]
  },
  {
   "cell_type": "code",
   "execution_count": null,
   "id": "42795fdd",
   "metadata": {},
   "outputs": [],
   "source": [
    "Return the maximum value from the array."
   ]
  },
  {
   "cell_type": "code",
   "execution_count": 17,
   "id": "f3351eda",
   "metadata": {},
   "outputs": [
    {
     "data": {
      "text/plain": [
       "6"
      ]
     },
     "execution_count": 17,
     "metadata": {},
     "output_type": "execute_result"
    }
   ],
   "source": [
    "arr = np.array([1,1,2,3,3,4,5,6,6,2])\n",
    "np.max(arr)"
   ]
  },
  {
   "cell_type": "markdown",
   "id": "58f4d93f",
   "metadata": {},
   "source": [
    "# Unique:"
   ]
  },
  {
   "cell_type": "code",
   "execution_count": null,
   "id": "fa6ef45b",
   "metadata": {},
   "outputs": [],
   "source": [
    "Return an array with all the unique elements sorted."
   ]
  },
  {
   "cell_type": "code",
   "execution_count": 21,
   "id": "acb1f59c",
   "metadata": {},
   "outputs": [
    {
     "data": {
      "text/plain": [
       "(array([1, 2, 3, 4, 5, 6]),\n",
       " array([0, 2, 3, 5, 6, 7], dtype=int64),\n",
       " array([2, 2, 2, 1, 1, 2], dtype=int64))"
      ]
     },
     "execution_count": 21,
     "metadata": {},
     "output_type": "execute_result"
    }
   ],
   "source": [
    "arr = np.array([1,1,2,3,3,4,5,6,6,2])\n",
    "\n",
    "np.unique(arr,return_index=True,return_counts=True,axis=None)"
   ]
  },
  {
   "cell_type": "markdown",
   "id": "51a6a434",
   "metadata": {},
   "source": [
    "# Mean:"
   ]
  },
  {
   "cell_type": "code",
   "execution_count": null,
   "id": "118c59ba",
   "metadata": {},
   "outputs": [],
   "source": [
    "It is used to get the mean of the array."
   ]
  },
  {
   "cell_type": "code",
   "execution_count": 23,
   "id": "394b8496",
   "metadata": {},
   "outputs": [
    {
     "data": {
      "text/plain": [
       "3"
      ]
     },
     "execution_count": 23,
     "metadata": {},
     "output_type": "execute_result"
    }
   ],
   "source": [
    "arr = np.array([1,1,2,3,3,4,5,6,6,2])\n",
    "np.mean(arr,dtype='int')"
   ]
  },
  {
   "cell_type": "markdown",
   "id": "91e5f6bc",
   "metadata": {},
   "source": [
    "# Median:"
   ]
  },
  {
   "cell_type": "code",
   "execution_count": null,
   "id": "5ca67970",
   "metadata": {},
   "outputs": [],
   "source": [
    "Return the median value of the array."
   ]
  },
  {
   "cell_type": "code",
   "execution_count": 24,
   "id": "c521e888",
   "metadata": {},
   "outputs": [
    {
     "data": {
      "text/plain": [
       "3.5"
      ]
     },
     "execution_count": 24,
     "metadata": {},
     "output_type": "execute_result"
    }
   ],
   "source": [
    "arr = np.array([[1,2,3],[5,8,4]])\n",
    "np.median(arr)"
   ]
  },
  {
   "cell_type": "markdown",
   "id": "2078bf2c",
   "metadata": {},
   "source": [
    "# Reshape:"
   ]
  },
  {
   "cell_type": "code",
   "execution_count": null,
   "id": "389f4fb8",
   "metadata": {},
   "outputs": [],
   "source": [
    "It is one of the most used functions of NumPy. It Returns an array containing the \n",
    "same data with a new shape."
   ]
  },
  {
   "cell_type": "code",
   "execution_count": 29,
   "id": "e2299156",
   "metadata": {},
   "outputs": [
    {
     "data": {
      "text/plain": [
       "array([[12, 10,  7],\n",
       "       [14,  1, 11],\n",
       "       [ 1,  5, 11],\n",
       "       [ 8, 12,  2]])"
      ]
     },
     "execution_count": 29,
     "metadata": {},
     "output_type": "execute_result"
    }
   ],
   "source": [
    "A = np.random.randint(15,size=(4,3))\n",
    "A"
   ]
  },
  {
   "cell_type": "code",
   "execution_count": 27,
   "id": "94a5bf8b",
   "metadata": {},
   "outputs": [
    {
     "data": {
      "text/plain": [
       "array([[ 3, 17,  6, 11,  9],\n",
       "       [16,  0,  6, 17,  6],\n",
       "       [ 6, 13, 17,  9, 13],\n",
       "       [16,  6, 14, 14, 14],\n",
       "       [15, 16,  6,  3,  7],\n",
       "       [17,  7, 13, 12,  5]])"
      ]
     },
     "execution_count": 27,
     "metadata": {},
     "output_type": "execute_result"
    }
   ],
   "source": [
    "A = np.random.randint(18,size=(6,5))\n",
    "A"
   ]
  },
  {
   "cell_type": "code",
   "execution_count": 30,
   "id": "856db68e",
   "metadata": {},
   "outputs": [
    {
     "data": {
      "text/plain": [
       "array([[12, 10,  7, 14],\n",
       "       [ 1, 11,  1,  5],\n",
       "       [11,  8, 12,  2]])"
      ]
     },
     "execution_count": 30,
     "metadata": {},
     "output_type": "execute_result"
    }
   ],
   "source": [
    "A.reshape(3,4)"
   ]
  },
  {
   "cell_type": "markdown",
   "id": "92c9a591",
   "metadata": {},
   "source": [
    "# Squeeze:"
   ]
  },
  {
   "cell_type": "code",
   "execution_count": null,
   "id": "2862d7c3",
   "metadata": {},
   "outputs": [],
   "source": [
    "Reduce the dimension of an array by removing single-dimensional entrie."
   ]
  },
  {
   "cell_type": "code",
   "execution_count": 31,
   "id": "c0ebfd63",
   "metadata": {},
   "outputs": [
    {
     "data": {
      "text/plain": [
       "array([ 8, 14,  1,  8, 11,  4,  9,  4,  1, 13, 13, 11])"
      ]
     },
     "execution_count": 31,
     "metadata": {},
     "output_type": "execute_result"
    }
   ],
   "source": [
    "arr = np.array([[ 8],[14],[ 1],[ 8],[11],[ 4],[ 9],[ 4],[ 1],[13],[13],[11]])\n",
    "np.squeeze(arr)"
   ]
  },
  {
   "cell_type": "code",
   "execution_count": 33,
   "id": "7d8fd20f",
   "metadata": {},
   "outputs": [
    {
     "data": {
      "text/plain": [
       "array([[ 8],\n",
       "       [14],\n",
       "       [ 1],\n",
       "       [ 8],\n",
       "       [11],\n",
       "       [ 4],\n",
       "       [ 9],\n",
       "       [ 4],\n",
       "       [ 1],\n",
       "       [13],\n",
       "       [13],\n",
       "       [11]])"
      ]
     },
     "execution_count": 33,
     "metadata": {},
     "output_type": "execute_result"
    }
   ],
   "source": [
    "arr = np.array([[ 8],[14],[ 1],[ 8],[11],[ 4],[ 9],[ 4],[ 1],[13],[13],[11]])\n",
    "arr"
   ]
  },
  {
   "cell_type": "markdown",
   "id": "fd27f7cb",
   "metadata": {},
   "source": [
    "# Count Non-Zero:"
   ]
  },
  {
   "cell_type": "code",
   "execution_count": null,
   "id": "0052975d",
   "metadata": {},
   "outputs": [],
   "source": [
    "Count all the non-zero elements and return their count."
   ]
  },
  {
   "cell_type": "code",
   "execution_count": 35,
   "id": "d2b1ef6a",
   "metadata": {},
   "outputs": [
    {
     "data": {
      "text/plain": [
       "5"
      ]
     },
     "execution_count": 35,
     "metadata": {},
     "output_type": "execute_result"
    }
   ],
   "source": [
    "a = np.array([0,0,1,1,1,0,5,7])\n",
    "np.count_nonzero(a)"
   ]
  },
  {
   "cell_type": "markdown",
   "id": "1e801354",
   "metadata": {},
   "source": [
    "# argwhere:"
   ]
  },
  {
   "cell_type": "code",
   "execution_count": null,
   "id": "1fef90c9",
   "metadata": {},
   "outputs": [],
   "source": [
    "Find and return all the indices of non-zero elements."
   ]
  },
  {
   "cell_type": "code",
   "execution_count": 36,
   "id": "03604af6",
   "metadata": {},
   "outputs": [
    {
     "data": {
      "text/plain": [
       "array([[2],\n",
       "       [3],\n",
       "       [4]], dtype=int64)"
      ]
     },
     "execution_count": 36,
     "metadata": {},
     "output_type": "execute_result"
    }
   ],
   "source": [
    "a = np.array([0,0,1,1,1,0])\n",
    "np.argwhere(a)"
   ]
  },
  {
   "cell_type": "markdown",
   "id": "f5353c4c",
   "metadata": {},
   "source": [
    "# argmax:"
   ]
  },
  {
   "cell_type": "code",
   "execution_count": null,
   "id": "9834878a",
   "metadata": {},
   "outputs": [],
   "source": [
    "argmax returns the index of the max element from the array."
   ]
  },
  {
   "cell_type": "code",
   "execution_count": 37,
   "id": "220d3390",
   "metadata": {},
   "outputs": [
    {
     "data": {
      "text/plain": [
       "1"
      ]
     },
     "execution_count": 37,
     "metadata": {},
     "output_type": "execute_result"
    }
   ],
   "source": [
    "arr = np.array([[0.12,0.64,0.19,0.05]])\n",
    "np.argmax(arr)"
   ]
  },
  {
   "cell_type": "markdown",
   "id": "cbc75d82",
   "metadata": {},
   "source": [
    "# argmin:"
   ]
  },
  {
   "cell_type": "code",
   "execution_count": null,
   "id": "20b3c2e8",
   "metadata": {},
   "outputs": [],
   "source": [
    "argmin will return the index of the lowest element from the array."
   ]
  },
  {
   "cell_type": "code",
   "execution_count": 40,
   "id": "47fbf8d2",
   "metadata": {},
   "outputs": [
    {
     "data": {
      "text/plain": [
       "3"
      ]
     },
     "execution_count": 40,
     "metadata": {},
     "output_type": "execute_result"
    }
   ],
   "source": [
    "arr = np.array([[0.12,0.64,0.19,0.05]])\n",
    "np.argmin(arr)"
   ]
  },
  {
   "cell_type": "markdown",
   "id": "5d346833",
   "metadata": {},
   "source": [
    "# Sort:"
   ]
  },
  {
   "cell_type": "code",
   "execution_count": null,
   "id": "1fe4d360",
   "metadata": {},
   "outputs": [],
   "source": [
    "Sort the array and return."
   ]
  },
  {
   "cell_type": "code",
   "execution_count": 41,
   "id": "7a3bb61b",
   "metadata": {},
   "outputs": [
    {
     "data": {
      "text/plain": [
       "array([1, 2, 3, 4, 5, 7])"
      ]
     },
     "execution_count": 41,
     "metadata": {},
     "output_type": "execute_result"
    }
   ],
   "source": [
    "arr = np.array([2,3,1,7,4,5])\n",
    "np.sort(arr)"
   ]
  },
  {
   "cell_type": "markdown",
   "id": "94012bd2",
   "metadata": {},
   "source": [
    "# Abs:"
   ]
  },
  {
   "cell_type": "code",
   "execution_count": null,
   "id": "efb55b92",
   "metadata": {},
   "outputs": [],
   "source": [
    "Return the absolute values of elements inside an array. It is useful \n",
    "when an array contains negative values."
   ]
  },
  {
   "cell_type": "code",
   "execution_count": 42,
   "id": "7ed67bff",
   "metadata": {},
   "outputs": [
    {
     "data": {
      "text/plain": [
       "array([[1, 3, 4],\n",
       "       [2, 4, 3]])"
      ]
     },
     "execution_count": 42,
     "metadata": {},
     "output_type": "execute_result"
    }
   ],
   "source": [
    "A = np.array([[1,-3,4],[-2,-4,3]])\n",
    "np.abs(A)"
   ]
  },
  {
   "cell_type": "code",
   "execution_count": 43,
   "id": "534c8a0b",
   "metadata": {},
   "outputs": [
    {
     "data": {
      "text/plain": [
       "array([ 8,  9,  2,  5,  4,  6, 56,  8,  3])"
      ]
     },
     "execution_count": 43,
     "metadata": {},
     "output_type": "execute_result"
    }
   ],
   "source": [
    "b=np.array([-8,9,2,5,-4,-6,-56,-8,-3])\n",
    "np.abs(b)"
   ]
  },
  {
   "cell_type": "markdown",
   "id": "be61dbd2",
   "metadata": {},
   "source": [
    "# Round"
   ]
  },
  {
   "cell_type": "code",
   "execution_count": null,
   "id": "7dc6ed66",
   "metadata": {},
   "outputs": [],
   "source": [
    "Round the float values to a specified number of decimal points.\n",
    "\n",
    "decimals: Number of decimals point to keep."
   ]
  },
  {
   "cell_type": "code",
   "execution_count": 44,
   "id": "1f96bc84",
   "metadata": {},
   "outputs": [
    {
     "data": {
      "text/plain": [
       "array([[0.79001881, 0.49891383, 0.62879553, 0.94258639],\n",
       "       [0.1841263 , 0.51911255, 0.91157893, 0.60257206],\n",
       "       [0.4258092 , 0.74668997, 0.49866824, 0.63414114]])"
      ]
     },
     "execution_count": 44,
     "metadata": {},
     "output_type": "execute_result"
    }
   ],
   "source": [
    "a = np.random.random(size=(3,4))\n",
    "a"
   ]
  },
  {
   "cell_type": "code",
   "execution_count": 45,
   "id": "2484ed04",
   "metadata": {},
   "outputs": [
    {
     "data": {
      "text/plain": [
       "array([[1., 0., 1., 1.],\n",
       "       [0., 1., 1., 1.],\n",
       "       [0., 1., 0., 1.]])"
      ]
     },
     "execution_count": 45,
     "metadata": {},
     "output_type": "execute_result"
    }
   ],
   "source": [
    "np.round(a,decimals=0)"
   ]
  },
  {
   "cell_type": "code",
   "execution_count": 46,
   "id": "309e2690",
   "metadata": {},
   "outputs": [
    {
     "data": {
      "text/plain": [
       "array([[0.8, 0.5, 0.6, 0.9],\n",
       "       [0.2, 0.5, 0.9, 0.6],\n",
       "       [0.4, 0.7, 0.5, 0.6]])"
      ]
     },
     "execution_count": 46,
     "metadata": {},
     "output_type": "execute_result"
    }
   ],
   "source": [
    "np.round(a,decimals=1)"
   ]
  },
  {
   "cell_type": "markdown",
   "id": "8f790d94",
   "metadata": {},
   "source": [
    "# Clip:"
   ]
  },
  {
   "cell_type": "code",
   "execution_count": null,
   "id": "64ddc063",
   "metadata": {},
   "outputs": [],
   "source": [
    "It is used to keep the values of an array within a range."
   ]
  },
  {
   "cell_type": "code",
   "execution_count": 47,
   "id": "d215f68b",
   "metadata": {},
   "outputs": [
    {
     "data": {
      "text/plain": [
       "array([0, 1, 0, 0, 5, 5, 5, 2, 3])"
      ]
     },
     "execution_count": 47,
     "metadata": {},
     "output_type": "execute_result"
    }
   ],
   "source": [
    "arr = np.array([0,1,-3,-4,5,6,7,2,3])\n",
    "arr.clip(0,5)"
   ]
  },
  {
   "cell_type": "code",
   "execution_count": 48,
   "id": "bf4b11f8",
   "metadata": {},
   "outputs": [
    {
     "data": {
      "text/plain": [
       "array([0, 1, 0, 0, 3, 3, 3, 2, 3])"
      ]
     },
     "execution_count": 48,
     "metadata": {},
     "output_type": "execute_result"
    }
   ],
   "source": [
    "arr = np.array([0,1,-3,-4,5,6,7,2,3])\n",
    "arr.clip(0,3)"
   ]
  },
  {
   "cell_type": "code",
   "execution_count": 49,
   "id": "e5dd0853",
   "metadata": {},
   "outputs": [
    {
     "data": {
      "text/plain": [
       "array([3, 3, 3, 3, 5, 5, 5, 3, 3])"
      ]
     },
     "execution_count": 49,
     "metadata": {},
     "output_type": "execute_result"
    }
   ],
   "source": [
    "arr = np.array([0,1,-3,-4,5,6,7,2,3])\n",
    "arr.clip(3,5)"
   ]
  },
  {
   "cell_type": "markdown",
   "id": "76a78a88",
   "metadata": {},
   "source": [
    "# Where:"
   ]
  },
  {
   "cell_type": "code",
   "execution_count": 50,
   "id": "2c5d49c3",
   "metadata": {},
   "outputs": [
    {
     "data": {
      "text/plain": [
       "array([[ 0,  1,  2],\n",
       "       [ 3,  4,  5],\n",
       "       [ 6,  7,  8],\n",
       "       [ 9, 10, 11]])"
      ]
     },
     "execution_count": 50,
     "metadata": {},
     "output_type": "execute_result"
    }
   ],
   "source": [
    "a = np.arange(12).reshape(4,3)\n",
    "a"
   ]
  },
  {
   "cell_type": "code",
   "execution_count": 51,
   "id": "c2bef904",
   "metadata": {},
   "outputs": [
    {
     "data": {
      "text/plain": [
       "(array([2, 2, 2, 3, 3, 3], dtype=int64),\n",
       " array([0, 1, 2, 0, 1, 2], dtype=int64))"
      ]
     },
     "execution_count": 51,
     "metadata": {},
     "output_type": "execute_result"
    }
   ],
   "source": [
    "np.where(a>5)"
   ]
  },
  {
   "cell_type": "markdown",
   "id": "20b67a3b",
   "metadata": {},
   "source": [
    "# Union:"
   ]
  },
  {
   "cell_type": "code",
   "execution_count": null,
   "id": "240c824b",
   "metadata": {},
   "outputs": [],
   "source": [
    "union function will combine both arrays into one."
   ]
  },
  {
   "cell_type": "code",
   "execution_count": 53,
   "id": "a7fa2b9b",
   "metadata": {},
   "outputs": [
    {
     "data": {
      "text/plain": [
       "array([ 1,  2,  3,  4,  5, 36])"
      ]
     },
     "execution_count": 53,
     "metadata": {},
     "output_type": "execute_result"
    }
   ],
   "source": [
    "a = np.array([1, 2, 3, 4, 5])\n",
    "b = np.array([1, 3, 5, 4, 36])\n",
    "np.union1d(a,b)"
   ]
  },
  {
   "cell_type": "markdown",
   "id": "f1bcc795",
   "metadata": {},
   "source": [
    "# -- Splitting --"
   ]
  },
  {
   "cell_type": "markdown",
   "id": "688e296f",
   "metadata": {},
   "source": [
    "# Horizontal Split:"
   ]
  },
  {
   "cell_type": "code",
   "execution_count": null,
   "id": "29340a6d",
   "metadata": {},
   "outputs": [],
   "source": [
    "hsplit function will split the data horizontally into n equal parts."
   ]
  },
  {
   "cell_type": "code",
   "execution_count": 54,
   "id": "da517334",
   "metadata": {},
   "outputs": [
    {
     "data": {
      "text/plain": [
       "[array([[3, 4],\n",
       "        [6, 7]]),\n",
       " array([[5, 2],\n",
       "        [2, 6]])]"
      ]
     },
     "execution_count": 54,
     "metadata": {},
     "output_type": "execute_result"
    }
   ],
   "source": [
    "A = np.array([[3,4,5,2],[6,7,2,6]])\n",
    "np.hsplit(A,2)\n",
    "## splits the data into two equal parts"
   ]
  },
  {
   "cell_type": "code",
   "execution_count": 55,
   "id": "b89e836c",
   "metadata": {},
   "outputs": [
    {
     "data": {
      "text/plain": [
       "[array([[3],\n",
       "        [6]]),\n",
       " array([[4],\n",
       "        [7]]),\n",
       " array([[5],\n",
       "        [2]]),\n",
       " array([[2],\n",
       "        [6]])]"
      ]
     },
     "execution_count": 55,
     "metadata": {},
     "output_type": "execute_result"
    }
   ],
   "source": [
    "np.hsplit(A,4)    ## splits the data into four equal parts"
   ]
  },
  {
   "cell_type": "markdown",
   "id": "be894d4b",
   "metadata": {},
   "source": [
    "# Vertical Split:"
   ]
  },
  {
   "cell_type": "code",
   "execution_count": null,
   "id": "644a9d9d",
   "metadata": {},
   "outputs": [],
   "source": [
    "vsplit will split the data vertically into n equal parts."
   ]
  },
  {
   "cell_type": "code",
   "execution_count": 56,
   "id": "3cde47c5",
   "metadata": {},
   "outputs": [
    {
     "data": {
      "text/plain": [
       "[array([[3, 4, 5, 2]]), array([[6, 7, 2, 6]])]"
      ]
     },
     "execution_count": 56,
     "metadata": {},
     "output_type": "execute_result"
    }
   ],
   "source": [
    "A = np.array([[3,4,5,2],[6,7,2,6]])\n",
    "np.vsplit(A,2)"
   ]
  },
  {
   "cell_type": "markdown",
   "id": "03b8e01b",
   "metadata": {},
   "source": [
    "# -- Stacking --"
   ]
  },
  {
   "cell_type": "markdown",
   "id": "17e235c4",
   "metadata": {},
   "source": [
    "# Horizontal Stacking:"
   ]
  },
  {
   "cell_type": "code",
   "execution_count": null,
   "id": "d3502db6",
   "metadata": {},
   "outputs": [],
   "source": [
    "hstack will stack appends one array at the end of another."
   ]
  },
  {
   "cell_type": "code",
   "execution_count": 57,
   "id": "e15e3d83",
   "metadata": {},
   "outputs": [
    {
     "data": {
      "text/plain": [
       "array([ 1,  2,  3,  4,  5,  1,  4,  9, 16, 25])"
      ]
     },
     "execution_count": 57,
     "metadata": {},
     "output_type": "execute_result"
    }
   ],
   "source": [
    "a = np.array([1,2,3,4,5])\n",
    "b = np.array([1,4,9,16,25])\n",
    "np.hstack((a,b))"
   ]
  },
  {
   "cell_type": "markdown",
   "id": "9969fb24",
   "metadata": {},
   "source": [
    "# Vertical Stacking:"
   ]
  },
  {
   "cell_type": "code",
   "execution_count": null,
   "id": "b8c0b7e1",
   "metadata": {},
   "outputs": [],
   "source": [
    "vstack will stack one array on top of another."
   ]
  },
  {
   "cell_type": "code",
   "execution_count": 59,
   "id": "ea60931c",
   "metadata": {},
   "outputs": [
    {
     "data": {
      "text/plain": [
       "array([[ 1,  2,  3,  4,  5],\n",
       "       [ 1,  4,  9, 16, 25]])"
      ]
     },
     "execution_count": 59,
     "metadata": {},
     "output_type": "execute_result"
    }
   ],
   "source": [
    "a = np.array([1,2,3,4,5])\n",
    "b = np.array([1,4,9,16,25])\n",
    "np.vstack((a,b))"
   ]
  },
  {
   "cell_type": "markdown",
   "id": "2472c43b",
   "metadata": {},
   "source": [
    "# Repeat:"
   ]
  },
  {
   "cell_type": "code",
   "execution_count": null,
   "id": "df062b66",
   "metadata": {},
   "outputs": [],
   "source": [
    "It is used to repeat elements of an array for n number of times."
   ]
  },
  {
   "cell_type": "code",
   "execution_count": 60,
   "id": "59de208b",
   "metadata": {},
   "outputs": [
    {
     "data": {
      "text/plain": [
       "array(['2017', '2017', '2017'], dtype='<U4')"
      ]
     },
     "execution_count": 60,
     "metadata": {},
     "output_type": "execute_result"
    }
   ],
   "source": [
    "np.repeat('2017',3)"
   ]
  },
  {
   "cell_type": "code",
   "execution_count": 61,
   "id": "d8670c52",
   "metadata": {},
   "outputs": [],
   "source": [
    "import pandas as pd"
   ]
  },
  {
   "cell_type": "code",
   "execution_count": 62,
   "id": "0c6d1213",
   "metadata": {},
   "outputs": [
    {
     "data": {
      "text/html": [
       "<div>\n",
       "<style scoped>\n",
       "    .dataframe tbody tr th:only-of-type {\n",
       "        vertical-align: middle;\n",
       "    }\n",
       "\n",
       "    .dataframe tbody tr th {\n",
       "        vertical-align: top;\n",
       "    }\n",
       "\n",
       "    .dataframe thead th {\n",
       "        text-align: right;\n",
       "    }\n",
       "</style>\n",
       "<table border=\"1\" class=\"dataframe\">\n",
       "  <thead>\n",
       "    <tr style=\"text-align: right;\">\n",
       "      <th></th>\n",
       "      <th>Product</th>\n",
       "      <th>ContainerSales</th>\n",
       "    </tr>\n",
       "  </thead>\n",
       "  <tbody>\n",
       "    <tr>\n",
       "      <th>0</th>\n",
       "      <td>Mango</td>\n",
       "      <td>40</td>\n",
       "    </tr>\n",
       "    <tr>\n",
       "      <th>1</th>\n",
       "      <td>Apple</td>\n",
       "      <td>90</td>\n",
       "    </tr>\n",
       "    <tr>\n",
       "      <th>2</th>\n",
       "      <td>Banana</td>\n",
       "      <td>130</td>\n",
       "    </tr>\n",
       "  </tbody>\n",
       "</table>\n",
       "</div>"
      ],
      "text/plain": [
       "  Product  ContainerSales\n",
       "0   Mango              40\n",
       "1   Apple              90\n",
       "2  Banana             130"
      ]
     },
     "execution_count": 62,
     "metadata": {},
     "output_type": "execute_result"
    }
   ],
   "source": [
    "fruits = pd.DataFrame([\n",
    "    ['Mango',40],\n",
    "    ['Apple',90],\n",
    "    ['Banana',130]\n",
    "],columns=['Product','ContainerSales'])\n",
    "fruits"
   ]
  },
  {
   "cell_type": "code",
   "execution_count": 63,
   "id": "c50fed8d",
   "metadata": {},
   "outputs": [
    {
     "data": {
      "text/html": [
       "<div>\n",
       "<style scoped>\n",
       "    .dataframe tbody tr th:only-of-type {\n",
       "        vertical-align: middle;\n",
       "    }\n",
       "\n",
       "    .dataframe tbody tr th {\n",
       "        vertical-align: top;\n",
       "    }\n",
       "\n",
       "    .dataframe thead th {\n",
       "        text-align: right;\n",
       "    }\n",
       "</style>\n",
       "<table border=\"1\" class=\"dataframe\">\n",
       "  <thead>\n",
       "    <tr style=\"text-align: right;\">\n",
       "      <th></th>\n",
       "      <th>Product</th>\n",
       "      <th>ContainerSales</th>\n",
       "      <th>year</th>\n",
       "    </tr>\n",
       "  </thead>\n",
       "  <tbody>\n",
       "    <tr>\n",
       "      <th>0</th>\n",
       "      <td>Mango</td>\n",
       "      <td>40</td>\n",
       "      <td>2020</td>\n",
       "    </tr>\n",
       "    <tr>\n",
       "      <th>1</th>\n",
       "      <td>Apple</td>\n",
       "      <td>90</td>\n",
       "      <td>2020</td>\n",
       "    </tr>\n",
       "    <tr>\n",
       "      <th>2</th>\n",
       "      <td>Banana</td>\n",
       "      <td>130</td>\n",
       "      <td>2020</td>\n",
       "    </tr>\n",
       "  </tbody>\n",
       "</table>\n",
       "</div>"
      ],
      "text/plain": [
       "  Product  ContainerSales  year\n",
       "0   Mango              40  2020\n",
       "1   Apple              90  2020\n",
       "2  Banana             130  2020"
      ]
     },
     "execution_count": 63,
     "metadata": {},
     "output_type": "execute_result"
    }
   ],
   "source": [
    "# In the dataset, the year column is missing. Let’s try to add it using numpy.\n",
    "fruits['year'] = np.repeat(2020,fruits.shape[0])\n",
    "fruits"
   ]
  },
  {
   "cell_type": "markdown",
   "id": "88485428",
   "metadata": {},
   "source": [
    "# Save:"
   ]
  },
  {
   "cell_type": "code",
   "execution_count": null,
   "id": "693b4eab",
   "metadata": {},
   "outputs": [],
   "source": [
    "savetxt used to save the content of an array inside a text file."
   ]
  },
  {
   "cell_type": "code",
   "execution_count": 64,
   "id": "1aafe611",
   "metadata": {},
   "outputs": [],
   "source": [
    "''' Generate array with 500 elements '''\n",
    "\n",
    "arr = np.linspace(10,100,500).reshape(25,20) \n",
    "\n",
    "##◾ 𝗦𝗮𝘃𝗲𝘀 𝗔𝗿𝗿𝗮𝘆 𝗗𝗮𝘁𝗮 𝗜𝗻𝘀𝗶𝗱𝗲 𝗮 𝘁𝘅𝘁 𝗙𝗶𝗹𝗲\n",
    "np.savetxt('array.txt',arr)"
   ]
  },
  {
   "cell_type": "markdown",
   "id": "459a657b",
   "metadata": {},
   "source": [
    "# Load:"
   ]
  },
  {
   "cell_type": "code",
   "execution_count": null,
   "id": "192228e6",
   "metadata": {},
   "outputs": [],
   "source": [
    "loadtxt used to load the content of an array from a text file. It takes the \n",
    "file name as a parameter."
   ]
  },
  {
   "cell_type": "code",
   "execution_count": 65,
   "id": "ef4af25d",
   "metadata": {},
   "outputs": [
    {
     "data": {
      "text/plain": [
       "array([[ 10.        ,  10.18036072,  10.36072144,  10.54108216,\n",
       "         10.72144289,  10.90180361,  11.08216433,  11.26252505,\n",
       "         11.44288577,  11.62324649,  11.80360721,  11.98396794,\n",
       "         12.16432866,  12.34468938,  12.5250501 ,  12.70541082,\n",
       "         12.88577154,  13.06613226,  13.24649299,  13.42685371],\n",
       "       [ 13.60721443,  13.78757515,  13.96793587,  14.14829659,\n",
       "         14.32865731,  14.50901804,  14.68937876,  14.86973948,\n",
       "         15.0501002 ,  15.23046092,  15.41082164,  15.59118236,\n",
       "         15.77154309,  15.95190381,  16.13226453,  16.31262525,\n",
       "         16.49298597,  16.67334669,  16.85370741,  17.03406814],\n",
       "       [ 17.21442886,  17.39478958,  17.5751503 ,  17.75551102,\n",
       "         17.93587174,  18.11623246,  18.29659319,  18.47695391,\n",
       "         18.65731463,  18.83767535,  19.01803607,  19.19839679,\n",
       "         19.37875752,  19.55911824,  19.73947896,  19.91983968,\n",
       "         20.1002004 ,  20.28056112,  20.46092184,  20.64128257],\n",
       "       [ 20.82164329,  21.00200401,  21.18236473,  21.36272545,\n",
       "         21.54308617,  21.72344689,  21.90380762,  22.08416834,\n",
       "         22.26452906,  22.44488978,  22.6252505 ,  22.80561122,\n",
       "         22.98597194,  23.16633267,  23.34669339,  23.52705411,\n",
       "         23.70741483,  23.88777555,  24.06813627,  24.24849699],\n",
       "       [ 24.42885772,  24.60921844,  24.78957916,  24.96993988,\n",
       "         25.1503006 ,  25.33066132,  25.51102204,  25.69138277,\n",
       "         25.87174349,  26.05210421,  26.23246493,  26.41282565,\n",
       "         26.59318637,  26.77354709,  26.95390782,  27.13426854,\n",
       "         27.31462926,  27.49498998,  27.6753507 ,  27.85571142],\n",
       "       [ 28.03607214,  28.21643287,  28.39679359,  28.57715431,\n",
       "         28.75751503,  28.93787575,  29.11823647,  29.29859719,\n",
       "         29.47895792,  29.65931864,  29.83967936,  30.02004008,\n",
       "         30.2004008 ,  30.38076152,  30.56112224,  30.74148297,\n",
       "         30.92184369,  31.10220441,  31.28256513,  31.46292585],\n",
       "       [ 31.64328657,  31.82364729,  32.00400802,  32.18436874,\n",
       "         32.36472946,  32.54509018,  32.7254509 ,  32.90581162,\n",
       "         33.08617234,  33.26653307,  33.44689379,  33.62725451,\n",
       "         33.80761523,  33.98797595,  34.16833667,  34.34869739,\n",
       "         34.52905812,  34.70941884,  34.88977956,  35.07014028],\n",
       "       [ 35.250501  ,  35.43086172,  35.61122244,  35.79158317,\n",
       "         35.97194389,  36.15230461,  36.33266533,  36.51302605,\n",
       "         36.69338677,  36.87374749,  37.05410822,  37.23446894,\n",
       "         37.41482966,  37.59519038,  37.7755511 ,  37.95591182,\n",
       "         38.13627255,  38.31663327,  38.49699399,  38.67735471],\n",
       "       [ 38.85771543,  39.03807615,  39.21843687,  39.3987976 ,\n",
       "         39.57915832,  39.75951904,  39.93987976,  40.12024048,\n",
       "         40.3006012 ,  40.48096192,  40.66132265,  40.84168337,\n",
       "         41.02204409,  41.20240481,  41.38276553,  41.56312625,\n",
       "         41.74348697,  41.9238477 ,  42.10420842,  42.28456914],\n",
       "       [ 42.46492986,  42.64529058,  42.8256513 ,  43.00601202,\n",
       "         43.18637275,  43.36673347,  43.54709419,  43.72745491,\n",
       "         43.90781563,  44.08817635,  44.26853707,  44.4488978 ,\n",
       "         44.62925852,  44.80961924,  44.98997996,  45.17034068,\n",
       "         45.3507014 ,  45.53106212,  45.71142285,  45.89178357],\n",
       "       [ 46.07214429,  46.25250501,  46.43286573,  46.61322645,\n",
       "         46.79358717,  46.9739479 ,  47.15430862,  47.33466934,\n",
       "         47.51503006,  47.69539078,  47.8757515 ,  48.05611222,\n",
       "         48.23647295,  48.41683367,  48.59719439,  48.77755511,\n",
       "         48.95791583,  49.13827655,  49.31863727,  49.498998  ],\n",
       "       [ 49.67935872,  49.85971944,  50.04008016,  50.22044088,\n",
       "         50.4008016 ,  50.58116232,  50.76152305,  50.94188377,\n",
       "         51.12224449,  51.30260521,  51.48296593,  51.66332665,\n",
       "         51.84368737,  52.0240481 ,  52.20440882,  52.38476954,\n",
       "         52.56513026,  52.74549098,  52.9258517 ,  53.10621242],\n",
       "       [ 53.28657315,  53.46693387,  53.64729459,  53.82765531,\n",
       "         54.00801603,  54.18837675,  54.36873747,  54.5490982 ,\n",
       "         54.72945892,  54.90981964,  55.09018036,  55.27054108,\n",
       "         55.4509018 ,  55.63126253,  55.81162325,  55.99198397,\n",
       "         56.17234469,  56.35270541,  56.53306613,  56.71342685],\n",
       "       [ 56.89378758,  57.0741483 ,  57.25450902,  57.43486974,\n",
       "         57.61523046,  57.79559118,  57.9759519 ,  58.15631263,\n",
       "         58.33667335,  58.51703407,  58.69739479,  58.87775551,\n",
       "         59.05811623,  59.23847695,  59.41883768,  59.5991984 ,\n",
       "         59.77955912,  59.95991984,  60.14028056,  60.32064128],\n",
       "       [ 60.501002  ,  60.68136273,  60.86172345,  61.04208417,\n",
       "         61.22244489,  61.40280561,  61.58316633,  61.76352705,\n",
       "         61.94388778,  62.1242485 ,  62.30460922,  62.48496994,\n",
       "         62.66533066,  62.84569138,  63.0260521 ,  63.20641283,\n",
       "         63.38677355,  63.56713427,  63.74749499,  63.92785571],\n",
       "       [ 64.10821643,  64.28857715,  64.46893788,  64.6492986 ,\n",
       "         64.82965932,  65.01002004,  65.19038076,  65.37074148,\n",
       "         65.5511022 ,  65.73146293,  65.91182365,  66.09218437,\n",
       "         66.27254509,  66.45290581,  66.63326653,  66.81362725,\n",
       "         66.99398798,  67.1743487 ,  67.35470942,  67.53507014],\n",
       "       [ 67.71543086,  67.89579158,  68.0761523 ,  68.25651303,\n",
       "         68.43687375,  68.61723447,  68.79759519,  68.97795591,\n",
       "         69.15831663,  69.33867735,  69.51903808,  69.6993988 ,\n",
       "         69.87975952,  70.06012024,  70.24048096,  70.42084168,\n",
       "         70.6012024 ,  70.78156313,  70.96192385,  71.14228457],\n",
       "       [ 71.32264529,  71.50300601,  71.68336673,  71.86372745,\n",
       "         72.04408818,  72.2244489 ,  72.40480962,  72.58517034,\n",
       "         72.76553106,  72.94589178,  73.12625251,  73.30661323,\n",
       "         73.48697395,  73.66733467,  73.84769539,  74.02805611,\n",
       "         74.20841683,  74.38877756,  74.56913828,  74.749499  ],\n",
       "       [ 74.92985972,  75.11022044,  75.29058116,  75.47094188,\n",
       "         75.65130261,  75.83166333,  76.01202405,  76.19238477,\n",
       "         76.37274549,  76.55310621,  76.73346693,  76.91382766,\n",
       "         77.09418838,  77.2745491 ,  77.45490982,  77.63527054,\n",
       "         77.81563126,  77.99599198,  78.17635271,  78.35671343],\n",
       "       [ 78.53707415,  78.71743487,  78.89779559,  79.07815631,\n",
       "         79.25851703,  79.43887776,  79.61923848,  79.7995992 ,\n",
       "         79.97995992,  80.16032064,  80.34068136,  80.52104208,\n",
       "         80.70140281,  80.88176353,  81.06212425,  81.24248497,\n",
       "         81.42284569,  81.60320641,  81.78356713,  81.96392786],\n",
       "       [ 82.14428858,  82.3246493 ,  82.50501002,  82.68537074,\n",
       "         82.86573146,  83.04609218,  83.22645291,  83.40681363,\n",
       "         83.58717435,  83.76753507,  83.94789579,  84.12825651,\n",
       "         84.30861723,  84.48897796,  84.66933868,  84.8496994 ,\n",
       "         85.03006012,  85.21042084,  85.39078156,  85.57114228],\n",
       "       [ 85.75150301,  85.93186373,  86.11222445,  86.29258517,\n",
       "         86.47294589,  86.65330661,  86.83366733,  87.01402806,\n",
       "         87.19438878,  87.3747495 ,  87.55511022,  87.73547094,\n",
       "         87.91583166,  88.09619238,  88.27655311,  88.45691383,\n",
       "         88.63727455,  88.81763527,  88.99799599,  89.17835671],\n",
       "       [ 89.35871743,  89.53907816,  89.71943888,  89.8997996 ,\n",
       "         90.08016032,  90.26052104,  90.44088176,  90.62124248,\n",
       "         90.80160321,  90.98196393,  91.16232465,  91.34268537,\n",
       "         91.52304609,  91.70340681,  91.88376754,  92.06412826,\n",
       "         92.24448898,  92.4248497 ,  92.60521042,  92.78557114],\n",
       "       [ 92.96593186,  93.14629259,  93.32665331,  93.50701403,\n",
       "         93.68737475,  93.86773547,  94.04809619,  94.22845691,\n",
       "         94.40881764,  94.58917836,  94.76953908,  94.9498998 ,\n",
       "         95.13026052,  95.31062124,  95.49098196,  95.67134269,\n",
       "         95.85170341,  96.03206413,  96.21242485,  96.39278557],\n",
       "       [ 96.57314629,  96.75350701,  96.93386774,  97.11422846,\n",
       "         97.29458918,  97.4749499 ,  97.65531062,  97.83567134,\n",
       "         98.01603206,  98.19639279,  98.37675351,  98.55711423,\n",
       "         98.73747495,  98.91783567,  99.09819639,  99.27855711,\n",
       "         99.45891784,  99.63927856,  99.81963928, 100.        ]])"
      ]
     },
     "execution_count": 65,
     "metadata": {},
     "output_type": "execute_result"
    }
   ],
   "source": [
    "np.loadtxt('array.txt')"
   ]
  },
  {
   "cell_type": "code",
   "execution_count": null,
   "id": "bc8a1b68",
   "metadata": {},
   "outputs": [],
   "source": []
  },
  {
   "cell_type": "markdown",
   "id": "966cd7f8",
   "metadata": {},
   "source": [
    "# Thanks For Reading\n",
    "I hope You Found Someting useful."
   ]
  },
  {
   "cell_type": "code",
   "execution_count": null,
   "id": "94d3f591",
   "metadata": {},
   "outputs": [],
   "source": []
  }
 ],
 "metadata": {
  "kernelspec": {
   "display_name": "Python 3 (ipykernel)",
   "language": "python",
   "name": "python3"
  },
  "language_info": {
   "codemirror_mode": {
    "name": "ipython",
    "version": 3
   },
   "file_extension": ".py",
   "mimetype": "text/x-python",
   "name": "python",
   "nbconvert_exporter": "python",
   "pygments_lexer": "ipython3",
   "version": "3.10.11"
  }
 },
 "nbformat": 4,
 "nbformat_minor": 5
}
